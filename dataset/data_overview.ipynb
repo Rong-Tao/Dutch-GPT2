{
 "cells": [
  {
   "cell_type": "code",
   "execution_count": 1,
   "metadata": {},
   "outputs": [],
   "source": [
    "import torch\n",
    "from transformers import RobertaConfig\n",
    "from transformers import RobertaTokenizerFast\n",
    "from transformers import RobertaForMaskedLM\n",
    "from transformers import TextDataset, LineByLineTextDataset\n",
    "from transformers import DataCollatorForLanguageModeling\n",
    "from datasets import Dataset\n",
    "import numpy as np"
   ]
  },
  {
   "cell_type": "code",
   "execution_count": 2,
   "metadata": {},
   "outputs": [],
   "source": [
    "dataset = Dataset.load_from_disk(\"../dataset/Tokenized_dataset.hf\")\n",
    "tokenizer = RobertaTokenizerFast.from_pretrained(\"../tokenizer/bpe-post\", max_len=512)"
   ]
  },
  {
   "cell_type": "code",
   "execution_count": 3,
   "metadata": {},
   "outputs": [
    {
     "data": {
      "text/plain": [
       "tensor([    0, 31140,   290, 12284,   312,   272,  3251,   288,   294,  1839,\n",
       "          296,  6217,    18,  1833,  2342,  3745,   431,   372,    17,  8160,\n",
       "           94, 38121,    30, 10464, 12228,   290,   408,  3245,    18,   203,\n",
       "          844,   622,  3447,   288, 16403, 22692,  9447,   296,  6217,   830,\n",
       "           59,   389,    92,   726,  5398,   387,   408,   294,  1683,   332])"
      ]
     },
     "execution_count": 3,
     "metadata": {},
     "output_type": "execute_result"
    }
   ],
   "source": [
    "dataset[1]['input_ids'][0:50]"
   ]
  },
  {
   "cell_type": "code",
   "execution_count": 4,
   "metadata": {},
   "outputs": [
    {
     "data": {
      "text/plain": [
       "'<s>Kosten en belastingen op de verkoop van een woning in Spanje. Te betalen belasting door niet-ingezetenen: kapitaalwinst en overwaarde.\\nIn ons kantoor van Nederlandstalige rechtszaak advocaten in Spanje “Welex” beschikken we over een team met'"
      ]
     },
     "execution_count": 4,
     "metadata": {},
     "output_type": "execute_result"
    }
   ],
   "source": [
    "tokenizer.decode(dataset[1]['input_ids'][0:50])"
   ]
  }
 ],
 "metadata": {
  "kernelspec": {
   "display_name": "hgf",
   "language": "python",
   "name": "python3"
  },
  "language_info": {
   "codemirror_mode": {
    "name": "ipython",
    "version": 3
   },
   "file_extension": ".py",
   "mimetype": "text/x-python",
   "name": "python",
   "nbconvert_exporter": "python",
   "pygments_lexer": "ipython3",
   "version": "3.8.18"
  }
 },
 "nbformat": 4,
 "nbformat_minor": 2
}
